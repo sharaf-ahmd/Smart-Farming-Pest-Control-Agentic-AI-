{
 "cells": [
  {
   "cell_type": "code",
   "execution_count": null,
   "id": "c73c12e2",
   "metadata": {},
   "outputs": [
    {
     "name": "stdout",
     "output_type": "stream",
     "text": [
      "Creating new Ultralytics Settings v0.0.6 file  \n",
      "View Ultralytics Settings with 'yolo settings' or at 'C:\\Users\\ASUS\\AppData\\Roaming\\Ultralytics\\settings.json'\n",
      "Update Settings with 'yolo settings key=value', i.e. 'yolo settings runs_dir=path/to/dir'. For help see https://docs.ultralytics.com/quickstart/#ultralytics-settings.\n"
     ]
    }
   ],
   "source": [
    "from ultralytics import YOLO\n",
    "model = YOLO(\"best.pt\")"
   ]
  },
  {
   "cell_type": "code",
   "execution_count": null,
   "id": "d6324289",
   "metadata": {},
   "outputs": [
    {
     "name": "stdout",
     "output_type": "stream",
     "text": [
      "\n",
      "image 1/1 c:\\Users\\ASUS\\Desktop\\IRWA\\project\\sample.jpg: 480x640 1 rice leaf caterpillar, 98.7ms\n",
      "Speed: 1.3ms preprocess, 98.7ms inference, 0.7ms postprocess per image at shape (1, 3, 480, 640)\n",
      "None\n"
     ]
    }
   ],
   "source": [
    "results = model.predict(\"sample.jpg\", imgsz=640, conf=0.25)\n",
    "print(results[0].show())"
   ]
  },
  {
   "cell_type": "code",
   "execution_count": null,
   "id": "e84083d8",
   "metadata": {},
   "outputs": [],
   "source": []
  }
 ],
 "metadata": {
  "kernelspec": {
   "display_name": "dl-env",
   "language": "python",
   "name": "python3"
  },
  "language_info": {
   "codemirror_mode": {
    "name": "ipython",
    "version": 3
   },
   "file_extension": ".py",
   "mimetype": "text/x-python",
   "name": "python",
   "nbconvert_exporter": "python",
   "pygments_lexer": "ipython3",
   "version": "3.10.18"
  }
 },
 "nbformat": 4,
 "nbformat_minor": 5
}
