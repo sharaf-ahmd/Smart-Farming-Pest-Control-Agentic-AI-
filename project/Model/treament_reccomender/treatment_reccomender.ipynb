{
 "cells": [
  {
   "cell_type": "code",
   "execution_count": 2,
   "id": "32abaf7f",
   "metadata": {},
   "outputs": [],
   "source": [
    "from langchain_community.document_loaders import CSVLoader\n",
    "from langchain.text_splitter import RecursiveCharacterTextSplitter\n",
    "from langchain_community.embeddings import OllamaEmbeddings\n",
    "from langchain_community.vectorstores import FAISS\n",
    "from langchain_core.documents import Document\n",
    "import os \n",
    "from dotenv import load_dotenv\n"
   ]
  },
  {
   "cell_type": "code",
   "execution_count": 4,
   "id": "edcbd535",
   "metadata": {},
   "outputs": [],
   "source": [
    "load_dotenv()\n",
    "groq_api_key=os.getenv('GROQ_API_KEY')"
   ]
  },
  {
   "cell_type": "code",
   "execution_count": 5,
   "id": "f1675fe5",
   "metadata": {},
   "outputs": [],
   "source": [
    "loader = CSVLoader(\"data.csv\")\n",
    "data=loader.load()"
   ]
  },
  {
   "cell_type": "code",
   "execution_count": 6,
   "id": "ac3d478e",
   "metadata": {},
   "outputs": [
    {
     "name": "stderr",
     "output_type": "stream",
     "text": [
      "C:\\Users\\ASUS\\AppData\\Local\\Temp\\ipykernel_26412\\909259017.py:1: LangChainDeprecationWarning: The class `OllamaEmbeddings` was deprecated in LangChain 0.3.1 and will be removed in 1.0.0. An updated version of the class exists in the :class:`~langchain-ollama package and should be used instead. To use it run `pip install -U :class:`~langchain-ollama` and import as `from :class:`~langchain_ollama import OllamaEmbeddings``.\n",
      "  embeddings = OllamaEmbeddings(model=\"nomic-embed-text\")\n"
     ]
    }
   ],
   "source": [
    "embeddings = OllamaEmbeddings(model=\"nomic-embed-text\")"
   ]
  },
  {
   "cell_type": "code",
   "execution_count": 8,
   "id": "f64e3e77",
   "metadata": {},
   "outputs": [],
   "source": [
    "vector_db = FAISS.from_documents(data,embeddings)"
   ]
  },
  {
   "cell_type": "code",
   "execution_count": 9,
   "id": "764845f2",
   "metadata": {},
   "outputs": [],
   "source": [
    "vector_db.save_local('faiss_index')"
   ]
  },
  {
   "cell_type": "code",
   "execution_count": 12,
   "id": "d4ce7553",
   "metadata": {},
   "outputs": [
    {
     "data": {
      "text/plain": [
       "'Pest Name: Corn Stalk Borer\\nCrop Type: Corn\\nTreatment Recommendations: Cultural Control: Destroy crop residues, deep ploughing after harvest. Biological Control: Use Trichogramma egg parasitoids and predatory bugs. Chemical Control: Apply carbofuran granules or spray chlorantraniliprole during early larval stages. Physical Control: Use pheromone traps for monitoring.'"
      ]
     },
     "execution_count": 12,
     "metadata": {},
     "output_type": "execute_result"
    }
   ],
   "source": [
    "rst=vector_db.similarity_search('Corn Leaf Miner Corn Medium')\n",
    "rst[1].page_content"
   ]
  },
  {
   "cell_type": "code",
   "execution_count": 13,
   "id": "36c72dea",
   "metadata": {},
   "outputs": [],
   "source": [
    "retriever= vector_db.as_retriever()"
   ]
  },
  {
   "cell_type": "code",
   "execution_count": 15,
   "id": "bd440466",
   "metadata": {},
   "outputs": [
    {
     "data": {
      "text/plain": [
       "[Document(id='b192416f-3c0c-46a9-8246-3026e9de250b', metadata={'source': 'data.csv', 'row': 14}, page_content='Pest Name: Corn Stalk Borer\\nCrop Type: Corn\\nTreatment Recommendations: Cultural Control: Destroy crop residues, deep ploughing after harvest. Biological Control: Use Trichogramma egg parasitoids and predatory bugs. Chemical Control: Apply carbofuran granules or spray chlorantraniliprole during early larval stages. Physical Control: Use pheromone traps for monitoring.'),\n",
       " Document(id='711b3b2e-b159-4cdb-99b1-8ccbbf6705ee', metadata={'source': 'data.csv', 'row': 10}, page_content='Pest Name: Corn Earworm\\nCrop Type: Corn\\nTreatment Recommendations: Cultural Control: Plant early maturing varieties, destroy crop residues. Biological Control: Release Trichogramma wasps, encourage predatory beetles. Chemical Control: Apply spinosad, indoxacarb, or Bt-based insecticides at silk emergence. Monitoring: Use pheromone traps for adult monitoring.'),\n",
       " Document(id='71750bc9-6a48-47ca-a086-30aff7d1e695', metadata={'source': 'data.csv', 'row': 11}, page_content='Pest Name: European Corn Borer\\nCrop Type: Corn\\nTreatment Recommendations: Cultural Control: Use Bt corn varieties, destroy corn stalks after harvest. Biological Control: Release Trichogramma brassicae egg parasitoids. Chemical Control: Apply chlorantraniliprole or methomyl at egg hatching stage. Mechanical Control: Remove and destroy infested plant parts.'),\n",
       " Document(id='8bb5c7db-3095-4ea8-b5d9-26824ef23002', metadata={'source': 'data.csv', 'row': 85}, page_content='Pest Name: Corn Billbug\\nCrop Type: Corn\\nTreatment Recommendations: Cultural Control: Crop rotation, destroy crop residues. Biological Control: Use entomopathogenic nematodes. Chemical Control: Soil application of clothianidin or seed treatment. Monitoring: Check for characteristic feeding punctures on leaves.')]"
      ]
     },
     "execution_count": 15,
     "metadata": {},
     "output_type": "execute_result"
    }
   ],
   "source": [
    "retriever.invoke(\"corn\")"
   ]
  },
  {
   "cell_type": "code",
   "execution_count": 16,
   "id": "66dcf445",
   "metadata": {},
   "outputs": [],
   "source": [
    "from langchain.chains.combine_documents import create_stuff_documents_chain\n",
    "from langchain.chains import create_retrieval_chain\n",
    "from langchain_groq import ChatGroq\n",
    "from langchain.prompts import ChatPromptTemplate\n",
    "from langchain_core.documents import Document"
   ]
  },
  {
   "cell_type": "code",
   "execution_count": 17,
   "id": "44db1a9b",
   "metadata": {},
   "outputs": [],
   "source": [
    "llm = ChatGroq(api_key=groq_api_key, model='Gemma2-9b-It')"
   ]
  },
  {
   "cell_type": "code",
   "execution_count": 18,
   "id": "6f8ed4db",
   "metadata": {},
   "outputs": [],
   "source": [
    "prompt = ChatPromptTemplate.from_messages([\n",
    "    (\"system\",\"You are an Treatement reccomender agent for a smart farming system,\" \n",
    "     \"use the context below to provide accurate and precise treatement for the relevant pest and crop on the user input.\"\n",
    "     \"provide the user with a detailed description of the treatment.\"),\n",
    "     (\"system\",\"<context>\\n{context}\\n</context>\"),\n",
    "     (\"human\", \"Question:{input} and {croptype}\")\n",
    "])"
   ]
  },
  {
   "cell_type": "code",
   "execution_count": 19,
   "id": "98fa99cc",
   "metadata": {},
   "outputs": [],
   "source": [
    "doc_chain = create_stuff_documents_chain(llm,prompt)"
   ]
  },
  {
   "cell_type": "code",
   "execution_count": 20,
   "id": "14e3be8b",
   "metadata": {},
   "outputs": [],
   "source": [
    "chain = create_retrieval_chain(retriever,doc_chain)"
   ]
  },
  {
   "cell_type": "code",
   "execution_count": 21,
   "id": "0ea04489",
   "metadata": {},
   "outputs": [
    {
     "data": {
      "text/plain": [
       "\"You're dealing with **Green Rice Leafhoppers** on your **rice** crop. \\n\\nHere's a breakdown of recommended treatments, prioritizing the most environmentally friendly options first:\\n\\n**1. Cultural Control:**\\n\\n* **Remove grassy weeds:** Green Rice Leafhoppers love to hang out in weeds, so keeping your field clean will significantly reduce their population.\\n* **Maintain field sanitation:**  This means properly removing crop residue after harvest to eliminate overwintering sites.\\n\\n**2. Biological Control:**\\n\\n* **Conserve natural enemies:** Encourage spiders and other predators in your field by providing habitat and avoiding broad-spectrum pesticides that harm beneficial insects.\\n\\n**3. Physical Control:**\\n\\n* **Use yellow sticky traps:** These traps are effective for monitoring Green Rice Leafhopper populations and can also help control them by trapping adults. Place them throughout your field.\\n\\n**4. Chemical Control (Use as a last resort):**\\n\\n* **Apply systemic insecticides like thiamethoxam:**  This should only be done when Green Rice Leafhopper populations exceed the economic threshold (a level where the damage they cause outweighs the cost of control).  \\n\\n**Important Notes:**\\n\\n* **Always consult local pest management guidelines:**  These will provide specific recommendations for your region and the extent of the infestation.\\n* **Rotate insecticides:** Using different types of insecticides can help prevent resistance development in the pest population.\\n* **Follow label instructions carefully:**  Always use pesticides according to the label directions to ensure safety and effectiveness.\\n\\n\\n\\nRemember, integrated pest management (IPM) is the most sustainable approach to controlling pests. This means combining multiple control strategies to minimize environmental impact and maximize crop health.\\n\""
      ]
     },
     "execution_count": 21,
     "metadata": {},
     "output_type": "execute_result"
    }
   ],
   "source": [
    "result = chain.invoke({    \"input\": \"Green Rice Leafhopper\", \"croptype\": \"Rice\" })\n",
    "result['answer']"
   ]
  },
  {
   "cell_type": "code",
   "execution_count": null,
   "id": "44cc32c7",
   "metadata": {},
   "outputs": [],
   "source": []
  }
 ],
 "metadata": {
  "kernelspec": {
   "display_name": "dl-env",
   "language": "python",
   "name": "python3"
  },
  "language_info": {
   "codemirror_mode": {
    "name": "ipython",
    "version": 3
   },
   "file_extension": ".py",
   "mimetype": "text/x-python",
   "name": "python",
   "nbconvert_exporter": "python",
   "pygments_lexer": "ipython3",
   "version": "3.10.18"
  }
 },
 "nbformat": 4,
 "nbformat_minor": 5
}
