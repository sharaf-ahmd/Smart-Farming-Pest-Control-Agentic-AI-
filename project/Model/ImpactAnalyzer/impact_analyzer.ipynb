{
 "cells": [
  {
   "cell_type": "markdown",
   "id": "3f0bb180",
   "metadata": {},
   "source": [
    "## Creating Context for the LLM"
   ]
  },
  {
   "cell_type": "code",
   "execution_count": null,
   "id": "7a40f633",
   "metadata": {},
   "outputs": [],
   "source": [
    "from langchain_community.document_loaders import PyPDFLoader\n",
    "from langchain.text_splitter import RecursiveCharacterTextSplitter\n",
    "from langchain_community.embeddings import OllamaEmbeddings\n",
    "from langchain_community.vectorstores import FAISS\n",
    "from langchain_core.documents import Document\n",
    "import os \n",
    "from dotenv import load_dotenv\n"
   ]
  },
  {
   "cell_type": "code",
   "execution_count": null,
   "id": "5f1df1c6",
   "metadata": {},
   "outputs": [],
   "source": [
    "load_dotenv()\n",
    "groq_api_key=os.getenv('GROQ_API_KEY')"
   ]
  },
  {
   "cell_type": "code",
   "execution_count": null,
   "id": "02aec083",
   "metadata": {},
   "outputs": [],
   "source": [
    "loader = PyPDFLoader(\"Ip102_Impact.pdf\")\n",
    "pages = loader.load()"
   ]
  },
  {
   "cell_type": "code",
   "execution_count": null,
   "id": "96d5408f",
   "metadata": {},
   "outputs": [],
   "source": [
    "rows = []\n",
    "for page in pages:\n",
    "    for line in page.page_content.split(\"\\n\"):\n",
    "        parts = line.strip().split()\n",
    "        if len(parts) >= 5 and parts[0].lower() != \"pest\":\n",
    "            rows.append(line.strip())"
   ]
  },
  {
   "cell_type": "code",
   "execution_count": null,
   "id": "c7f12b60",
   "metadata": {},
   "outputs": [],
   "source": [
    "docs = [Document(page_content=row) for row in rows]\n",
    "print(\"Sample document:\", docs[32])"
   ]
  },
  {
   "cell_type": "code",
   "execution_count": null,
   "id": "b5d0bcf4",
   "metadata": {},
   "outputs": [],
   "source": [
    "embeddings = OllamaEmbeddings(model=\"nomic-embed-text\")"
   ]
  },
  {
   "cell_type": "code",
   "execution_count": null,
   "id": "ed0177af",
   "metadata": {},
   "outputs": [],
   "source": [
    "vector_db = FAISS.from_documents(docs,embeddings)\n",
    "vector_db\n",
    "vector_db.save_local('faiss_index')"
   ]
  },
  {
   "cell_type": "code",
   "execution_count": null,
   "id": "472cc1c0",
   "metadata": {},
   "outputs": [],
   "source": [
    "rst=vector_db.similarity_search('Corn Leaf Miner Corn Medium')\n",
    "rst[1].page_content"
   ]
  },
  {
   "cell_type": "code",
   "execution_count": null,
   "id": "e516ca81",
   "metadata": {},
   "outputs": [],
   "source": [
    "retriever= vector_db.as_retriever()"
   ]
  },
  {
   "cell_type": "code",
   "execution_count": null,
   "id": "42779799",
   "metadata": {},
   "outputs": [],
   "source": [
    "retriever.invoke(\"mango\")"
   ]
  },
  {
   "cell_type": "code",
   "execution_count": null,
   "id": "708e31ea",
   "metadata": {},
   "outputs": [],
   "source": [
    "from langchain.chains.combine_documents import create_stuff_documents_chain\n",
    "from langchain_core.prompts import ChatPromptTemplate\n",
    "from langchain.chains import create_retrieval_chain\n",
    "from langchain_groq import ChatGroq\n",
    "from langchain_core.documents import Document"
   ]
  },
  {
   "cell_type": "code",
   "execution_count": null,
   "id": "22f7bebb",
   "metadata": {},
   "outputs": [],
   "source": [
    "llm = ChatGroq(api_key=groq_api_key, model='Gemma2-9b-It')"
   ]
  },
  {
   "cell_type": "code",
   "execution_count": null,
   "id": "96f82613",
   "metadata": {},
   "outputs": [],
   "source": [
    "prompt= ChatPromptTemplate.from_messages([\n",
    "    (\"system\",\"You are an impact analyzer agent for a smart farming system,\" \n",
    "     \"use the context below to provide accurate and precise impact prediction based on the user input.\"\n",
    "     \"provide the user with Risk Level, Avg Damage, Predicted Yield Loss.\"),\n",
    "     (\"system\",\"<context>\\n{context}\\n</context>\"),\n",
    "     (\"human\", \"Question:{input} and {croptype}\")\n",
    "])"
   ]
  },
  {
   "cell_type": "code",
   "execution_count": null,
   "id": "139aea57",
   "metadata": {},
   "outputs": [],
   "source": [
    "chain = create_stuff_documents_chain(llm,prompt)"
   ]
  },
  {
   "cell_type": "code",
   "execution_count": null,
   "id": "7a99c684",
   "metadata": {},
   "outputs": [],
   "source": [
    "chain.invoke({\n",
    "      \"input\": \"Green Rice Leafhopper \",\n",
    "      \"croptype\":\"rice\",\n",
    "      \"context\":[Document(page_content=\"'Green Rice LeafhopperRice Medium 12 8\\nRice Gall Midge Rice High 18 12\\nRice Stem Borer Rice High 22 17\\nRice Brown LeafhopperRice Medium 14 10\\nRice Green LeafhopperRice Medium 12 8')\")]\n",
    "\n",
    "})"
   ]
  },
  {
   "cell_type": "code",
   "execution_count": null,
   "id": "040f795d",
   "metadata": {},
   "outputs": [],
   "source": [
    "ret_chain = create_retrieval_chain(retriever,chain)\n",
    "ret_chain"
   ]
  },
  {
   "cell_type": "code",
   "execution_count": null,
   "id": "57dfd08d",
   "metadata": {},
   "outputs": [],
   "source": [
    "from langchain_core.output_parsers import StrOutputParser"
   ]
  },
  {
   "cell_type": "code",
   "execution_count": null,
   "id": "7715382c",
   "metadata": {},
   "outputs": [],
   "source": [
    "result = ret_chain.invoke({    \"input\": \"Green Rice Leafhopper\", \"croptype\": \"Rice\" })\n",
    "result['answer']\n"
   ]
  },
  {
   "cell_type": "code",
   "execution_count": null,
   "id": "88544d61",
   "metadata": {},
   "outputs": [],
   "source": [
    "parser =StrOutputParser()"
   ]
  },
  {
   "cell_type": "code",
   "execution_count": null,
   "id": "41169d7f",
   "metadata": {},
   "outputs": [],
   "source": [
    "from langchain_core.runnables import RunnableLambda\n",
    "chain = ret_chain | RunnableLambda(lambda x: x[\"answer\"]) | parser"
   ]
  },
  {
   "cell_type": "code",
   "execution_count": null,
   "id": "14ccab61",
   "metadata": {},
   "outputs": [],
   "source": [
    "parsed = chain.invoke({\"input\": \"Green Rice Leafhopper\",\"croptype\":\" Rice\"})\n",
    "print(parsed)"
   ]
  },
  {
   "cell_type": "markdown",
   "id": "ed2159bd",
   "metadata": {},
   "source": [
    "## Save the models and artifacts"
   ]
  },
  {
   "cell_type": "code",
   "execution_count": null,
   "id": "38054ef4",
   "metadata": {},
   "outputs": [],
   "source": []
  },
  {
   "cell_type": "code",
   "execution_count": null,
   "id": "a902a1b1",
   "metadata": {},
   "outputs": [],
   "source": []
  },
  {
   "cell_type": "code",
   "execution_count": null,
   "id": "12a03e1b",
   "metadata": {},
   "outputs": [],
   "source": []
  },
  {
   "cell_type": "code",
   "execution_count": null,
   "id": "ef86c134",
   "metadata": {},
   "outputs": [],
   "source": []
  },
  {
   "cell_type": "code",
   "execution_count": null,
   "id": "10fae976",
   "metadata": {},
   "outputs": [],
   "source": []
  },
  {
   "cell_type": "code",
   "execution_count": null,
   "id": "94f646fc",
   "metadata": {},
   "outputs": [],
   "source": []
  },
  {
   "cell_type": "code",
   "execution_count": null,
   "id": "ec0233fc",
   "metadata": {},
   "outputs": [],
   "source": []
  },
  {
   "cell_type": "code",
   "execution_count": null,
   "id": "3a0349d8",
   "metadata": {},
   "outputs": [],
   "source": []
  },
  {
   "cell_type": "code",
   "execution_count": null,
   "id": "08eedf52",
   "metadata": {},
   "outputs": [],
   "source": []
  },
  {
   "cell_type": "code",
   "execution_count": null,
   "id": "9e1325ab",
   "metadata": {},
   "outputs": [],
   "source": []
  },
  {
   "cell_type": "code",
   "execution_count": null,
   "id": "4e6b6743",
   "metadata": {},
   "outputs": [],
   "source": []
  },
  {
   "cell_type": "code",
   "execution_count": null,
   "id": "fdbae21c",
   "metadata": {},
   "outputs": [],
   "source": []
  },
  {
   "cell_type": "code",
   "execution_count": null,
   "id": "3834756a",
   "metadata": {},
   "outputs": [],
   "source": []
  }
 ],
 "metadata": {
  "kernelspec": {
   "display_name": "dl-env",
   "language": "python",
   "name": "python3"
  },
  "language_info": {
   "codemirror_mode": {
    "name": "ipython",
    "version": 3
   },
   "file_extension": ".py",
   "mimetype": "text/x-python",
   "name": "python",
   "nbconvert_exporter": "python",
   "pygments_lexer": "ipython3",
   "version": "3.10.18"
  }
 },
 "nbformat": 4,
 "nbformat_minor": 5
}
